{
 "cells": [
  {
   "cell_type": "markdown",
   "metadata": {},
   "source": [
    "### Example: optimize a tensor of values so that their rank matches a target"
   ]
  },
  {
   "cell_type": "code",
   "execution_count": 1,
   "metadata": {},
   "outputs": [
    {
     "name": "stdout",
     "output_type": "stream",
     "text": [
      "tensor([[[ 1.7713, -1.0994, -0.1573,  0.0531, -0.9103],\n",
      "         [-2.0598,  0.9478,  0.2425,  0.9996, -1.8692],\n",
      "         [-2.2766, -0.6376,  0.5263,  1.5816, -3.3394]]])\n",
      "Initially, the values in our tensor do not result in the desired argsort\n",
      "tensor([[[1, 4, 2, 3, 0],\n",
      "         [0, 4, 2, 1, 3],\n",
      "         [4, 0, 1, 2, 3]]])\n"
     ]
    }
   ],
   "source": [
    "import torch\n",
    "from perturbations_torch.fenchel_young import FenchelYoungLoss\n",
    "\n",
    "\n",
    "def ranks(inputs, dim=-1):\n",
    "    \"\"\"Returns the ranks of the input values among the given axis.\"\"\"\n",
    "    return 1 + inputs.argsort(dim).argsort(dim).type(inputs.dtype)\n",
    "\n",
    "# We initialize a random tensor\n",
    "x = torch.randn([3, 5]).float()\n",
    "print(x)\n",
    "\n",
    "# Turn its grad on, since we will change this tensor to minimize our loss\n",
    "x.requires_grad = True\n",
    "y_true = torch.arange(5).float().unsqueeze(0).repeat([x.shape[0], 1])\n",
    "\n",
    "print(\"Initially, the values in our tensor do not result in the desired argsort\")\n",
    "print(x.argsort(-1))"
   ]
  },
  {
   "cell_type": "code",
   "execution_count": 2,
   "metadata": {},
   "outputs": [
    {
     "name": "stdout",
     "output_type": "stream",
     "text": [
      "tensor([[[1, 4, 2, 3, 0],\n",
      "         [0, 4, 2, 1, 3],\n",
      "         [4, 0, 1, 2, 3]]])\n",
      "75.0\n",
      "tensor([[[1, 0, 2, 3, 4],\n",
      "         [0, 4, 1, 2, 3],\n",
      "         [0, 4, 1, 2, 3]]])\n",
      "41.00177764892578\n",
      "tensor([[[0, 1, 2, 3, 4],\n",
      "         [0, 1, 2, 3, 4],\n",
      "         [0, 1, 2, 4, 3]]])\n",
      "20.642358779907227\n",
      "tensor([[[0, 1, 2, 3, 4],\n",
      "         [0, 1, 2, 3, 4],\n",
      "         [0, 1, 2, 4, 3]]])\n",
      "17.00006675720215\n",
      "SGD has succesfully changed our tensor to match the desired argsort!\n"
     ]
    }
   ],
   "source": [
    "# Initialize an SGD optimizer and do 200 steps\n",
    "optim = torch.optim.SGD([x], 0.01)\n",
    "\n",
    "for iteration in range(200):\n",
    "    optim.zero_grad()\n",
    "    criterion = FenchelYoungLoss(ranks)\n",
    "    loss = criterion(y_true, x).sum()\n",
    "    loss.backward()\n",
    "    optim.step()\n",
    "    if iteration % 50 == 0:\n",
    "        print(x.argsort(-1))\n",
    "        print(loss.item())\n",
    "        \n",
    "print(\"SGD has succesfully changed our tensor to match the desired argsort!\")"
   ]
  }
 ],
 "metadata": {
  "kernelspec": {
   "display_name": "Python 3",
   "language": "python",
   "name": "python3"
  },
  "language_info": {
   "codemirror_mode": {
    "name": "ipython",
    "version": 3
   },
   "file_extension": ".py",
   "mimetype": "text/x-python",
   "name": "python",
   "nbconvert_exporter": "python",
   "pygments_lexer": "ipython3",
   "version": "3.6.9"
  }
 },
 "nbformat": 4,
 "nbformat_minor": 4
}
