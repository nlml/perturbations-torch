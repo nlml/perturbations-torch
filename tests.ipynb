{
 "cells": [
  {
   "cell_type": "code",
   "execution_count": 1,
   "metadata": {},
   "outputs": [],
   "source": [
    "# !pip install tensorflow-probability nb_black gin-config\n",
    "# !pip install torch==1.8.0+cpu torchvision==0.9.0+cpu torchaudio==0.8.0 -f https://download.pytorch.org/whl/torch_stable.html"
   ]
  },
  {
   "cell_type": "code",
   "execution_count": 2,
   "metadata": {},
   "outputs": [
    {
     "data": {
      "application/javascript": [
       "\n",
       "            setTimeout(function() {\n",
       "                var nbb_cell_id = 2;\n",
       "                var nbb_unformatted_code = \"%load_ext nb_black\";\n",
       "                var nbb_formatted_code = \"%load_ext nb_black\";\n",
       "                var nbb_cells = Jupyter.notebook.get_cells();\n",
       "                for (var i = 0; i < nbb_cells.length; ++i) {\n",
       "                    if (nbb_cells[i].input_prompt_number == nbb_cell_id) {\n",
       "                        if (nbb_cells[i].get_text() == nbb_unformatted_code) {\n",
       "                             nbb_cells[i].set_text(nbb_formatted_code);\n",
       "                        }\n",
       "                        break;\n",
       "                    }\n",
       "                }\n",
       "            }, 500);\n",
       "            "
      ],
      "text/plain": [
       "<IPython.core.display.Javascript object>"
      ]
     },
     "metadata": {},
     "output_type": "display_data"
    }
   ],
   "source": [
    "%load_ext nb_black"
   ]
  },
  {
   "cell_type": "code",
   "execution_count": 3,
   "metadata": {},
   "outputs": [
    {
     "data": {
      "application/javascript": [
       "\n",
       "            setTimeout(function() {\n",
       "                var nbb_cell_id = 3;\n",
       "                var nbb_unformatted_code = \"import tensorflow as tf\\nimport perturbations\\n\\ndef argmax(x, axis=-1):\\n    return tf.one_hot(tf.argmax(x, axis=axis), tf.shape(x)[axis])\";\n",
       "                var nbb_formatted_code = \"import tensorflow as tf\\nimport perturbations\\n\\n\\ndef argmax(x, axis=-1):\\n    return tf.one_hot(tf.argmax(x, axis=axis), tf.shape(x)[axis])\";\n",
       "                var nbb_cells = Jupyter.notebook.get_cells();\n",
       "                for (var i = 0; i < nbb_cells.length; ++i) {\n",
       "                    if (nbb_cells[i].input_prompt_number == nbb_cell_id) {\n",
       "                        if (nbb_cells[i].get_text() == nbb_unformatted_code) {\n",
       "                             nbb_cells[i].set_text(nbb_formatted_code);\n",
       "                        }\n",
       "                        break;\n",
       "                    }\n",
       "                }\n",
       "            }, 500);\n",
       "            "
      ],
      "text/plain": [
       "<IPython.core.display.Javascript object>"
      ]
     },
     "metadata": {},
     "output_type": "display_data"
    }
   ],
   "source": [
    "import tensorflow as tf\n",
    "import perturbations\n",
    "\n",
    "def argmax(x, axis=-1):\n",
    "    return tf.one_hot(tf.argmax(x, axis=axis), tf.shape(x)[axis])\n"
   ]
  },
  {
   "cell_type": "code",
   "execution_count": 4,
   "metadata": {},
   "outputs": [
    {
     "data": {
      "text/plain": [
       "<tf.Tensor: shape=(5,), dtype=float32, numpy=array([0., 1., 0., 0., 0.], dtype=float32)>"
      ]
     },
     "execution_count": 4,
     "metadata": {},
     "output_type": "execute_result"
    },
    {
     "data": {
      "application/javascript": [
       "\n",
       "            setTimeout(function() {\n",
       "                var nbb_cell_id = 4;\n",
       "                var nbb_unformatted_code = \"argmax(tf.constant([-0.6, 1.9, -0.2, 1.1, -1.0], dtype=tf.float32))\";\n",
       "                var nbb_formatted_code = \"argmax(tf.constant([-0.6, 1.9, -0.2, 1.1, -1.0], dtype=tf.float32))\";\n",
       "                var nbb_cells = Jupyter.notebook.get_cells();\n",
       "                for (var i = 0; i < nbb_cells.length; ++i) {\n",
       "                    if (nbb_cells[i].input_prompt_number == nbb_cell_id) {\n",
       "                        if (nbb_cells[i].get_text() == nbb_unformatted_code) {\n",
       "                             nbb_cells[i].set_text(nbb_formatted_code);\n",
       "                        }\n",
       "                        break;\n",
       "                    }\n",
       "                }\n",
       "            }, 500);\n",
       "            "
      ],
      "text/plain": [
       "<IPython.core.display.Javascript object>"
      ]
     },
     "metadata": {},
     "output_type": "display_data"
    }
   ],
   "source": [
    "argmax(tf.constant([-0.6, 1.9, -0.2, 1.1, -1.0], dtype=tf.float32))"
   ]
  },
  {
   "cell_type": "code",
   "execution_count": 5,
   "metadata": {},
   "outputs": [
    {
     "data": {
      "application/javascript": [
       "\n",
       "            setTimeout(function() {\n",
       "                var nbb_cell_id = 5;\n",
       "                var nbb_unformatted_code = \"from perturbations import perturbations\";\n",
       "                var nbb_formatted_code = \"from perturbations import perturbations\";\n",
       "                var nbb_cells = Jupyter.notebook.get_cells();\n",
       "                for (var i = 0; i < nbb_cells.length; ++i) {\n",
       "                    if (nbb_cells[i].input_prompt_number == nbb_cell_id) {\n",
       "                        if (nbb_cells[i].get_text() == nbb_unformatted_code) {\n",
       "                             nbb_cells[i].set_text(nbb_formatted_code);\n",
       "                        }\n",
       "                        break;\n",
       "                    }\n",
       "                }\n",
       "            }, 500);\n",
       "            "
      ],
      "text/plain": [
       "<IPython.core.display.Javascript object>"
      ]
     },
     "metadata": {},
     "output_type": "display_data"
    }
   ],
   "source": [
    "from perturbations import perturbations"
   ]
  },
  {
   "cell_type": "code",
   "execution_count": 6,
   "metadata": {},
   "outputs": [
    {
     "data": {
      "application/javascript": [
       "\n",
       "            setTimeout(function() {\n",
       "                var nbb_cell_id = 6;\n",
       "                var nbb_unformatted_code = \"pert_argmax_fn = perturbations.perturbed(argmax,\\n                                      num_samples=1000000,\\n                                      sigma=0.5,\\n                                      noise='gumbel',\\n                                      batched=False)\";\n",
       "                var nbb_formatted_code = \"pert_argmax_fn = perturbations.perturbed(\\n    argmax, num_samples=1000000, sigma=0.5, noise=\\\"gumbel\\\", batched=False\\n)\";\n",
       "                var nbb_cells = Jupyter.notebook.get_cells();\n",
       "                for (var i = 0; i < nbb_cells.length; ++i) {\n",
       "                    if (nbb_cells[i].input_prompt_number == nbb_cell_id) {\n",
       "                        if (nbb_cells[i].get_text() == nbb_unformatted_code) {\n",
       "                             nbb_cells[i].set_text(nbb_formatted_code);\n",
       "                        }\n",
       "                        break;\n",
       "                    }\n",
       "                }\n",
       "            }, 500);\n",
       "            "
      ],
      "text/plain": [
       "<IPython.core.display.Javascript object>"
      ]
     },
     "metadata": {},
     "output_type": "display_data"
    }
   ],
   "source": [
    "pert_argmax_fn = perturbations.perturbed(argmax,\n",
    "                                      num_samples=1000000,\n",
    "                                      sigma=0.5,\n",
    "                                      noise='gumbel',\n",
    "                                      batched=False)\n"
   ]
  },
  {
   "cell_type": "code",
   "execution_count": 7,
   "metadata": {},
   "outputs": [
    {
     "data": {
      "text/plain": [
       "<tf.Tensor: shape=(5,), dtype=float32, numpy=array([0.00546 , 0.815495, 0.01207 , 0.16443 , 0.002545], dtype=float32)>"
      ]
     },
     "execution_count": 7,
     "metadata": {},
     "output_type": "execute_result"
    },
    {
     "data": {
      "application/javascript": [
       "\n",
       "            setTimeout(function() {\n",
       "                var nbb_cell_id = 7;\n",
       "                var nbb_unformatted_code = \"theta = tf.constant([-0.6, 1.9, -0.2, 1.1, -1.0], dtype=tf.float32)\\npert_argmax_fn(theta)\";\n",
       "                var nbb_formatted_code = \"theta = tf.constant([-0.6, 1.9, -0.2, 1.1, -1.0], dtype=tf.float32)\\npert_argmax_fn(theta)\";\n",
       "                var nbb_cells = Jupyter.notebook.get_cells();\n",
       "                for (var i = 0; i < nbb_cells.length; ++i) {\n",
       "                    if (nbb_cells[i].input_prompt_number == nbb_cell_id) {\n",
       "                        if (nbb_cells[i].get_text() == nbb_unformatted_code) {\n",
       "                             nbb_cells[i].set_text(nbb_formatted_code);\n",
       "                        }\n",
       "                        break;\n",
       "                    }\n",
       "                }\n",
       "            }, 500);\n",
       "            "
      ],
      "text/plain": [
       "<IPython.core.display.Javascript object>"
      ]
     },
     "metadata": {},
     "output_type": "display_data"
    }
   ],
   "source": [
    "theta = tf.constant([-0.6, 1.9, -0.2, 1.1, -1.0], dtype=tf.float32)\n",
    "pert_argmax_fn(theta)"
   ]
  },
  {
   "cell_type": "code",
   "execution_count": 8,
   "metadata": {},
   "outputs": [
    {
     "data": {
      "text/plain": [
       "<tf.Tensor: shape=(5,), dtype=float32, numpy=\n",
       "array([0.00549293, 0.8152234 , 0.01222475, 0.16459078, 0.00246813],\n",
       "      dtype=float32)>"
      ]
     },
     "execution_count": 8,
     "metadata": {},
     "output_type": "execute_result"
    },
    {
     "data": {
      "application/javascript": [
       "\n",
       "            setTimeout(function() {\n",
       "                var nbb_cell_id = 8;\n",
       "                var nbb_unformatted_code = \"sigma = 0.5\\ntf.nn.softmax(theta / sigma)\";\n",
       "                var nbb_formatted_code = \"sigma = 0.5\\ntf.nn.softmax(theta / sigma)\";\n",
       "                var nbb_cells = Jupyter.notebook.get_cells();\n",
       "                for (var i = 0; i < nbb_cells.length; ++i) {\n",
       "                    if (nbb_cells[i].input_prompt_number == nbb_cell_id) {\n",
       "                        if (nbb_cells[i].get_text() == nbb_unformatted_code) {\n",
       "                             nbb_cells[i].set_text(nbb_formatted_code);\n",
       "                        }\n",
       "                        break;\n",
       "                    }\n",
       "                }\n",
       "            }, 500);\n",
       "            "
      ],
      "text/plain": [
       "<IPython.core.display.Javascript object>"
      ]
     },
     "metadata": {},
     "output_type": "display_data"
    }
   ],
   "source": [
    "sigma = 0.5\n",
    "tf.nn.softmax(theta / sigma)"
   ]
  },
  {
   "cell_type": "code",
   "execution_count": 9,
   "metadata": {},
   "outputs": [
    {
     "name": "stdout",
     "output_type": "stream",
     "text": [
      "WARNING:tensorflow:Calling GradientTape.gradient on a persistent tape inside its context is significantly less efficient than calling it outside the context (it causes the gradient ops to be recorded on the tape, leading to increased CPU and memory usage). Only call GradientTape.gradient inside the context if you actually want to trace the gradient in order to compute higher order derivatives.\n",
      "WARNING:tensorflow:Calling GradientTape.gradient on a persistent tape inside its context is significantly less efficient than calling it outside the context (it causes the gradient ops to be recorded on the tape, leading to increased CPU and memory usage). Only call GradientTape.gradient inside the context if you actually want to trace the gradient in order to compute higher order derivatives.\n",
      "WARNING:tensorflow:Calling GradientTape.gradient on a persistent tape inside its context is significantly less efficient than calling it outside the context (it causes the gradient ops to be recorded on the tape, leading to increased CPU and memory usage). Only call GradientTape.gradient inside the context if you actually want to trace the gradient in order to compute higher order derivatives.\n",
      "Good!\n"
     ]
    },
    {
     "data": {
      "application/javascript": [
       "\n",
       "            setTimeout(function() {\n",
       "                var nbb_cell_id = 9;\n",
       "                var nbb_unformatted_code = \"# coding=utf-8\\n# Copyright 2021 The Google Research Authors.\\n#\\n# Licensed under the Apache License, Version 2.0 (the \\\"License\\\");\\n# you may not use this file except in compliance with the License.\\n# You may obtain a copy of the License at\\n#\\n#     http://www.apache.org/licenses/LICENSE-2.0\\n#\\n# Unless required by applicable law or agreed to in writing, software\\n# distributed under the License is distributed on an \\\"AS IS\\\" BASIS,\\n# WITHOUT WARRANTIES OR CONDITIONS OF ANY KIND, either express or implied.\\n# See the License for the specific language governing permissions and\\n# limitations under the License.\\n\\n# Lint as: python3\\n\\\"\\\"\\\"Tests for the fenchel_young module.\\\"\\\"\\\"\\n\\nimport tensorflow.compat.v2 as tf\\n\\nfrom perturbations import fenchel_young as fy\\n\\n\\ndef ranks(inputs, axis=-1):\\n    \\\"\\\"\\\"Returns the ranks of the input values among the given axis.\\\"\\\"\\\"\\n    return 1 + tf.cast(\\n        tf.argsort(tf.argsort(inputs, axis=axis), axis=axis),\\n        dtype=inputs.dtype,\\n    )\\n\\n\\nclass FenchelYoungTest(tf.test.TestCase):\\n    \\\"\\\"\\\"Testing the gradients obtained by the FenchelYoungLoss class.\\\"\\\"\\\"\\n\\n    def test_gradients(self):\\n        loss_fn = fy.FenchelYoungLoss(\\n            ranks, num_samples=10000, sigma=0.1, batched=False\\n        )\\n\\n        theta = tf.constant([1, 20, 7.3, 7.35])\\n        y_true = tf.constant([1, 4, 3, 2], dtype=theta.dtype)\\n        y_hard_minimum = tf.constant([1, 4, 2, 3], dtype=theta.dtype)\\n        y_perturbed_minimum = tf.constant(loss_fn.perturbed(theta))\\n\\n        with tf.GradientTape(persistent=True) as tape:\\n            tape.watch(theta)\\n            g_true = tape.gradient(loss_fn(y_true, theta), theta)\\n            g_hard_minimum = tape.gradient(\\n                loss_fn(y_hard_minimum, theta), theta\\n            )\\n            g_perturbed_minimum = tape.gradient(\\n                loss_fn(y_perturbed_minimum, theta), theta\\n            )\\n\\n        # The gradient should be close to zero for the two first values.\\n        self.assertAllClose(g_true[:2], [0.0, 0.0])\\n        self.assertLess(tf.norm(g_perturbed_minimum), tf.norm(g_hard_minimum))\\n        self.assertLess(tf.norm(g_hard_minimum), tf.norm(g_true))\\n        for g in [g_true, g_hard_minimum, g_perturbed_minimum]:\\n            self.assertAllClose(tf.math.reduce_sum(g), 0.0)\\n        print(\\\"Good!\\\")\\n\\nif __name__ == \\\"__main__\\\":\\n    tf.enable_v2_behavior()\\n    FenchelYoungTest().test_gradients()\";\n",
       "                var nbb_formatted_code = \"# coding=utf-8\\n# Copyright 2021 The Google Research Authors.\\n#\\n# Licensed under the Apache License, Version 2.0 (the \\\"License\\\");\\n# you may not use this file except in compliance with the License.\\n# You may obtain a copy of the License at\\n#\\n#     http://www.apache.org/licenses/LICENSE-2.0\\n#\\n# Unless required by applicable law or agreed to in writing, software\\n# distributed under the License is distributed on an \\\"AS IS\\\" BASIS,\\n# WITHOUT WARRANTIES OR CONDITIONS OF ANY KIND, either express or implied.\\n# See the License for the specific language governing permissions and\\n# limitations under the License.\\n\\n# Lint as: python3\\n\\\"\\\"\\\"Tests for the fenchel_young module.\\\"\\\"\\\"\\n\\nimport tensorflow.compat.v2 as tf\\n\\nfrom perturbations import fenchel_young as fy\\n\\n\\ndef ranks(inputs, axis=-1):\\n    \\\"\\\"\\\"Returns the ranks of the input values among the given axis.\\\"\\\"\\\"\\n    return 1 + tf.cast(\\n        tf.argsort(tf.argsort(inputs, axis=axis), axis=axis),\\n        dtype=inputs.dtype,\\n    )\\n\\n\\nclass FenchelYoungTest(tf.test.TestCase):\\n    \\\"\\\"\\\"Testing the gradients obtained by the FenchelYoungLoss class.\\\"\\\"\\\"\\n\\n    def test_gradients(self):\\n        loss_fn = fy.FenchelYoungLoss(\\n            ranks, num_samples=10000, sigma=0.1, batched=False\\n        )\\n\\n        theta = tf.constant([1, 20, 7.3, 7.35])\\n        y_true = tf.constant([1, 4, 3, 2], dtype=theta.dtype)\\n        y_hard_minimum = tf.constant([1, 4, 2, 3], dtype=theta.dtype)\\n        y_perturbed_minimum = tf.constant(loss_fn.perturbed(theta))\\n\\n        with tf.GradientTape(persistent=True) as tape:\\n            tape.watch(theta)\\n            g_true = tape.gradient(loss_fn(y_true, theta), theta)\\n            g_hard_minimum = tape.gradient(loss_fn(y_hard_minimum, theta), theta)\\n            g_perturbed_minimum = tape.gradient(\\n                loss_fn(y_perturbed_minimum, theta), theta\\n            )\\n\\n        # The gradient should be close to zero for the two first values.\\n        self.assertAllClose(g_true[:2], [0.0, 0.0])\\n        self.assertLess(tf.norm(g_perturbed_minimum), tf.norm(g_hard_minimum))\\n        self.assertLess(tf.norm(g_hard_minimum), tf.norm(g_true))\\n        for g in [g_true, g_hard_minimum, g_perturbed_minimum]:\\n            self.assertAllClose(tf.math.reduce_sum(g), 0.0)\\n        print(\\\"Good!\\\")\\n\\n\\nif __name__ == \\\"__main__\\\":\\n    tf.enable_v2_behavior()\\n    FenchelYoungTest().test_gradients()\";\n",
       "                var nbb_cells = Jupyter.notebook.get_cells();\n",
       "                for (var i = 0; i < nbb_cells.length; ++i) {\n",
       "                    if (nbb_cells[i].input_prompt_number == nbb_cell_id) {\n",
       "                        if (nbb_cells[i].get_text() == nbb_unformatted_code) {\n",
       "                             nbb_cells[i].set_text(nbb_formatted_code);\n",
       "                        }\n",
       "                        break;\n",
       "                    }\n",
       "                }\n",
       "            }, 500);\n",
       "            "
      ],
      "text/plain": [
       "<IPython.core.display.Javascript object>"
      ]
     },
     "metadata": {},
     "output_type": "display_data"
    }
   ],
   "source": [
    "# coding=utf-8\n",
    "# Copyright 2021 The Google Research Authors.\n",
    "#\n",
    "# Licensed under the Apache License, Version 2.0 (the \"License\");\n",
    "# you may not use this file except in compliance with the License.\n",
    "# You may obtain a copy of the License at\n",
    "#\n",
    "#     http://www.apache.org/licenses/LICENSE-2.0\n",
    "#\n",
    "# Unless required by applicable law or agreed to in writing, software\n",
    "# distributed under the License is distributed on an \"AS IS\" BASIS,\n",
    "# WITHOUT WARRANTIES OR CONDITIONS OF ANY KIND, either express or implied.\n",
    "# See the License for the specific language governing permissions and\n",
    "# limitations under the License.\n",
    "\n",
    "# Lint as: python3\n",
    "\"\"\"Tests for the fenchel_young module.\"\"\"\n",
    "\n",
    "import tensorflow.compat.v2 as tf\n",
    "\n",
    "from perturbations import fenchel_young as fy\n",
    "\n",
    "\n",
    "def ranks(inputs, axis=-1):\n",
    "    \"\"\"Returns the ranks of the input values among the given axis.\"\"\"\n",
    "    return 1 + tf.cast(\n",
    "        tf.argsort(tf.argsort(inputs, axis=axis), axis=axis),\n",
    "        dtype=inputs.dtype,\n",
    "    )\n",
    "\n",
    "\n",
    "class FenchelYoungTest(tf.test.TestCase):\n",
    "    \"\"\"Testing the gradients obtained by the FenchelYoungLoss class.\"\"\"\n",
    "\n",
    "    def test_gradients(self):\n",
    "        loss_fn = fy.FenchelYoungLoss(\n",
    "            ranks, num_samples=10000, sigma=0.1, batched=False\n",
    "        )\n",
    "\n",
    "        theta = tf.constant([1, 20, 7.3, 7.35])\n",
    "        y_true = tf.constant([1, 4, 3, 2], dtype=theta.dtype)\n",
    "        y_hard_minimum = tf.constant([1, 4, 2, 3], dtype=theta.dtype)\n",
    "        y_perturbed_minimum = tf.constant(loss_fn.perturbed(theta))\n",
    "\n",
    "        with tf.GradientTape(persistent=True) as tape:\n",
    "            tape.watch(theta)\n",
    "            g_true = tape.gradient(loss_fn(y_true, theta), theta)\n",
    "            g_hard_minimum = tape.gradient(\n",
    "                loss_fn(y_hard_minimum, theta), theta\n",
    "            )\n",
    "            g_perturbed_minimum = tape.gradient(\n",
    "                loss_fn(y_perturbed_minimum, theta), theta\n",
    "            )\n",
    "\n",
    "        # The gradient should be close to zero for the two first values.\n",
    "        self.assertAllClose(g_true[:2], [0.0, 0.0])\n",
    "        self.assertLess(tf.norm(g_perturbed_minimum), tf.norm(g_hard_minimum))\n",
    "        self.assertLess(tf.norm(g_hard_minimum), tf.norm(g_true))\n",
    "        for g in [g_true, g_hard_minimum, g_perturbed_minimum]:\n",
    "            self.assertAllClose(tf.math.reduce_sum(g), 0.0)\n",
    "        print(\"Good!\")\n",
    "\n",
    "if __name__ == \"__main__\":\n",
    "    tf.enable_v2_behavior()\n",
    "    FenchelYoungTest().test_gradients()\n"
   ]
  },
  {
   "cell_type": "code",
   "execution_count": null,
   "metadata": {},
   "outputs": [],
   "source": []
  },
  {
   "cell_type": "code",
   "execution_count": 10,
   "metadata": {},
   "outputs": [
    {
     "data": {
      "application/javascript": [
       "\n",
       "            setTimeout(function() {\n",
       "                var nbb_cell_id = 10;\n",
       "                var nbb_unformatted_code = \"from torch.distributions.gumbel import Gumbel\\nimport matplotlib.pyplot as plt\\nimport tensorflow_probability as tfp\\nimport numpy as np\";\n",
       "                var nbb_formatted_code = \"from torch.distributions.gumbel import Gumbel\\nimport matplotlib.pyplot as plt\\nimport tensorflow_probability as tfp\\nimport numpy as np\";\n",
       "                var nbb_cells = Jupyter.notebook.get_cells();\n",
       "                for (var i = 0; i < nbb_cells.length; ++i) {\n",
       "                    if (nbb_cells[i].input_prompt_number == nbb_cell_id) {\n",
       "                        if (nbb_cells[i].get_text() == nbb_unformatted_code) {\n",
       "                             nbb_cells[i].set_text(nbb_formatted_code);\n",
       "                        }\n",
       "                        break;\n",
       "                    }\n",
       "                }\n",
       "            }, 500);\n",
       "            "
      ],
      "text/plain": [
       "<IPython.core.display.Javascript object>"
      ]
     },
     "metadata": {},
     "output_type": "display_data"
    }
   ],
   "source": [
    "from torch.distributions.gumbel import Gumbel\n",
    "import matplotlib.pyplot as plt\n",
    "import tensorflow_probability as tfp\n",
    "import numpy as np"
   ]
  },
  {
   "cell_type": "code",
   "execution_count": 11,
   "metadata": {},
   "outputs": [
    {
     "data": {
      "application/javascript": [
       "\n",
       "            setTimeout(function() {\n",
       "                var nbb_cell_id = 11;\n",
       "                var nbb_unformatted_code = \"shape = [1000]\";\n",
       "                var nbb_formatted_code = \"shape = [1000]\";\n",
       "                var nbb_cells = Jupyter.notebook.get_cells();\n",
       "                for (var i = 0; i < nbb_cells.length; ++i) {\n",
       "                    if (nbb_cells[i].input_prompt_number == nbb_cell_id) {\n",
       "                        if (nbb_cells[i].get_text() == nbb_unformatted_code) {\n",
       "                             nbb_cells[i].set_text(nbb_formatted_code);\n",
       "                        }\n",
       "                        break;\n",
       "                    }\n",
       "                }\n",
       "            }, 500);\n",
       "            "
      ],
      "text/plain": [
       "<IPython.core.display.Javascript object>"
      ]
     },
     "metadata": {},
     "output_type": "display_data"
    }
   ],
   "source": [
    "shape = [1000]"
   ]
  },
  {
   "cell_type": "code",
   "execution_count": 12,
   "metadata": {},
   "outputs": [
    {
     "data": {
      "image/png": "[encoded data removed]",
      "text/plain": [
       "<Figure size 432x288 with 1 Axes>"
      ]
     },
     "metadata": {
      "needs_background": "light"
     },
     "output_type": "display_data"
    },
    {
     "data": {
      "application/javascript": [
       "\n",
       "            setTimeout(function() {\n",
       "                var nbb_cell_id = 12;\n",
       "                var nbb_unformatted_code = \"sampler = Gumbel(0.0, 1.0)\\nsamples_tch = sampler.sample(shape)\\nplt.hist(samples_tch.numpy(), bins=10)\\nplt.show()\";\n",
       "                var nbb_formatted_code = \"sampler = Gumbel(0.0, 1.0)\\nsamples_tch = sampler.sample(shape)\\nplt.hist(samples_tch.numpy(), bins=10)\\nplt.show()\";\n",
       "                var nbb_cells = Jupyter.notebook.get_cells();\n",
       "                for (var i = 0; i < nbb_cells.length; ++i) {\n",
       "                    if (nbb_cells[i].input_prompt_number == nbb_cell_id) {\n",
       "                        if (nbb_cells[i].get_text() == nbb_unformatted_code) {\n",
       "                             nbb_cells[i].set_text(nbb_formatted_code);\n",
       "                        }\n",
       "                        break;\n",
       "                    }\n",
       "                }\n",
       "            }, 500);\n",
       "            "
      ],
      "text/plain": [
       "<IPython.core.display.Javascript object>"
      ]
     },
     "metadata": {},
     "output_type": "display_data"
    }
   ],
   "source": [
    "sampler = Gumbel(0.0, 1.0)\n",
    "samples_tch = sampler.sample(shape)\n",
    "plt.hist(samples_tch.numpy(), bins=10)\n",
    "plt.show()"
   ]
  },
  {
   "cell_type": "code",
   "execution_count": 13,
   "metadata": {},
   "outputs": [
    {
     "data": {
      "application/javascript": [
       "\n",
       "            setTimeout(function() {\n",
       "                var nbb_cell_id = 13;\n",
       "                var nbb_unformatted_code = \"sampler = tfp.distributions.Gumbel(0.0, 1.0)\\nsamples = sampler.sample(shape)\";\n",
       "                var nbb_formatted_code = \"sampler = tfp.distributions.Gumbel(0.0, 1.0)\\nsamples = sampler.sample(shape)\";\n",
       "                var nbb_cells = Jupyter.notebook.get_cells();\n",
       "                for (var i = 0; i < nbb_cells.length; ++i) {\n",
       "                    if (nbb_cells[i].input_prompt_number == nbb_cell_id) {\n",
       "                        if (nbb_cells[i].get_text() == nbb_unformatted_code) {\n",
       "                             nbb_cells[i].set_text(nbb_formatted_code);\n",
       "                        }\n",
       "                        break;\n",
       "                    }\n",
       "                }\n",
       "            }, 500);\n",
       "            "
      ],
      "text/plain": [
       "<IPython.core.display.Javascript object>"
      ]
     },
     "metadata": {},
     "output_type": "display_data"
    }
   ],
   "source": [
    "sampler = tfp.distributions.Gumbel(0.0, 1.0)\n",
    "samples = sampler.sample(shape)"
   ]
  },
  {
   "cell_type": "code",
   "execution_count": 14,
   "metadata": {},
   "outputs": [
    {
     "data": {
      "image/png": "[encoded data removed]",
      "text/plain": [
       "<Figure size 432x288 with 1 Axes>"
      ]
     },
     "metadata": {
      "needs_background": "light"
     },
     "output_type": "display_data"
    },
    {
     "data": {
      "application/javascript": [
       "\n",
       "            setTimeout(function() {\n",
       "                var nbb_cell_id = 14;\n",
       "                var nbb_unformatted_code = \"plt.hist(np.array(samples))\\nplt.show()\";\n",
       "                var nbb_formatted_code = \"plt.hist(np.array(samples))\\nplt.show()\";\n",
       "                var nbb_cells = Jupyter.notebook.get_cells();\n",
       "                for (var i = 0; i < nbb_cells.length; ++i) {\n",
       "                    if (nbb_cells[i].input_prompt_number == nbb_cell_id) {\n",
       "                        if (nbb_cells[i].get_text() == nbb_unformatted_code) {\n",
       "                             nbb_cells[i].set_text(nbb_formatted_code);\n",
       "                        }\n",
       "                        break;\n",
       "                    }\n",
       "                }\n",
       "            }, 500);\n",
       "            "
      ],
      "text/plain": [
       "<IPython.core.display.Javascript object>"
      ]
     },
     "metadata": {},
     "output_type": "display_data"
    }
   ],
   "source": [
    "plt.hist(np.array(samples))\n",
    "plt.show()"
   ]
  },
  {
   "cell_type": "code",
   "execution_count": 39,
   "metadata": {},
   "outputs": [
    {
     "name": "stdout",
     "output_type": "stream",
     "text": [
      "tensor([-0.1657, -0.3990,  0.2303, -0.1693,  0.1969, -2.2686, -0.5040,  0.0511,\n",
      "         1.3192,  0.4267])\n"
     ]
    },
    {
     "data": {
      "text/plain": [
       "tensor([ 0.,  0.,  0.,  0.,  0., -2.,  0.,  0.,  1.,  0.])"
      ]
     },
     "execution_count": 39,
     "metadata": {},
     "output_type": "execute_result"
    },
    {
     "data": {
      "application/javascript": [
       "\n",
       "            setTimeout(function() {\n",
       "                var nbb_cell_id = 39;\n",
       "                var nbb_unformatted_code = \"import torch\\n\\nx = torch.randn([10])\\nprint(x)\\nx.long().type(torch.randn([1]).dtype)\";\n",
       "                var nbb_formatted_code = \"import torch\\n\\nx = torch.randn([10])\\nprint(x)\\nx.long().type(torch.randn([1]).dtype)\";\n",
       "                var nbb_cells = Jupyter.notebook.get_cells();\n",
       "                for (var i = 0; i < nbb_cells.length; ++i) {\n",
       "                    if (nbb_cells[i].input_prompt_number == nbb_cell_id) {\n",
       "                        if (nbb_cells[i].get_text() == nbb_unformatted_code) {\n",
       "                             nbb_cells[i].set_text(nbb_formatted_code);\n",
       "                        }\n",
       "                        break;\n",
       "                    }\n",
       "                }\n",
       "            }, 500);\n",
       "            "
      ],
      "text/plain": [
       "<IPython.core.display.Javascript object>"
      ]
     },
     "metadata": {},
     "output_type": "display_data"
    }
   ],
   "source": [
    "import torch\n",
    "\n",
    "x = torch.randn([10])\n",
    "print(x)\n",
    "x.long().type(torch.randn([1]).dtype)"
   ]
  },
  {
   "cell_type": "code",
   "execution_count": 3,
   "metadata": {},
   "outputs": [],
   "source": [
    "import torch\n",
    "import functools\n",
    "from typing import Tuple\n",
    "\n",
    "\n",
    "_GUMBEL = \"gumbel\"\n",
    "_NORMAL = \"normal\"\n",
    "SUPPORTED_NOISES = (_GUMBEL, _NORMAL)\n",
    "\n",
    "\n",
    "def sample_noise_with_gradients(noise, shape):\n",
    "    \"\"\"Samples a noise tensor according to a distribution with its gradient.\n",
    "\n",
    "  Args:\n",
    "   noise: (str) a type of supported noise distribution.\n",
    "   shape: tf.Tensor<int>, the shape of the tensor to sample.\n",
    "\n",
    "  Returns:\n",
    "   A tuple Tensor<float>[shape], Tensor<float>[shape] that corresponds to the\n",
    "   sampled noise and the gradient of log the underlying probability\n",
    "   distribution function. For instance, for a gaussian noise (normal), the\n",
    "   gradient is equal to the noise itself.\n",
    "\n",
    "  Raises:\n",
    "   ValueError in case the requested noise distribution is not supported.\n",
    "   See perturbations.SUPPORTED_NOISES for the list of supported distributions.\n",
    "  \"\"\"\n",
    "    if noise not in SUPPORTED_NOISES:\n",
    "        raise ValueError(\n",
    "            \"{} noise is not supported. Use one of [{}]\".format(\n",
    "                noise, SUPPORTED_NOISES\n",
    "            )\n",
    "        )\n",
    "\n",
    "    if noise == _GUMBEL:\n",
    "        sampler = torch.distributions.gumbel.Gumbel(0.0, 1.0)\n",
    "        samples = sampler.sample(shape)\n",
    "        gradients = 1 - torch.exp(-samples)\n",
    "    elif noise == _NORMAL:\n",
    "        sampler = torch.distributions.normal.Normal(0.0, 1.0)\n",
    "        samples = sampler.sample(shape)\n",
    "        gradients = samples\n",
    "\n",
    "    return samples, gradients\n"
   ]
  },
  {
   "cell_type": "code",
   "execution_count": null,
   "metadata": {},
   "outputs": [],
   "source": []
  },
  {
   "cell_type": "code",
   "execution_count": 14,
   "metadata": {},
   "outputs": [
    {
     "data": {
      "text/plain": [
       "tensor([[1, 0]])"
      ]
     },
     "execution_count": 14,
     "metadata": {},
     "output_type": "execute_result"
    }
   ],
   "source": [
    "func(input_tensor)"
   ]
  },
  {
   "cell_type": "code",
   "execution_count": 43,
   "metadata": {},
   "outputs": [],
   "source": [
    "input_tensor = torch.randn([3, 2])\n",
    "batched = True\n",
    "num_samples = 300\n",
    "sigma = 1.\n",
    "noise = _NORMAL\n",
    "batched = True\n",
    "func = lambda x: torch.nn.functional.one_hot(torch.argmax(x, 1), x.shape[1]).type(x.dtype)\n",
    "# original_input_shape = input_tensor.shape\n",
    "# if batched:\n",
    "#     assert len(original_input_shape) >= 2\n",
    "# else:\n",
    "#     input_tensor = input_tensor.unsqueeze(0)\n",
    "# input_shape = input_tensor.shape  # [B, D1, ... Dk], k >= 1\n",
    "# perturbed_input_shape = [num_samples] + list(input_shape)\n",
    "\n",
    "# noises = sample_noise_with_gradients(noise, perturbed_input_shape)\n",
    "# additive_noise, noise_gradient = [noise.type(input_tensor.dtype) for noise in noises]\n",
    "# perturbed_input = input_tensor.unsqueeze(0) + sigma * additive_noise\n",
    "\n",
    "# # [N, B, D1, ..., Dk] -> [NB, D1, ..., Dk].\n",
    "# flat_batch_dim_shape = [-1] + list(input_shape[1:])\n",
    "# perturbed_input = perturbed_input.view(flat_batch_dim_shape)\n",
    "# # Calls user-defined function in a perturbation agnostic manner.\n",
    "# perturbed_output = func(perturbed_input)\n",
    "# # [NB, D1, ..., Dk] ->  [N, B, D1, ..., Dk].\n",
    "# perturbed_input = perturbed_input.view(perturbed_input_shape)\n",
    "# # Either\n",
    "# #   (Default case): [NB, D1, ..., Dk] ->  [N, B, D1, ..., Dk]\n",
    "# # or\n",
    "# #   (Full-reduce case) [NB] -> [N, B]\n",
    "# perturbed_output_shape = [num_samples] + [-1] + list(perturbed_output.shape[1:])\n",
    "# perturbed_output = perturbed_output.view(perturbed_output_shape)\n",
    "\n",
    "# forward_output = perturbed_output.mean(0)\n",
    "# if not batched:  # Removes dummy batch dimension.\n",
    "#     forward_output = forward_output[0]"
   ]
  },
  {
   "cell_type": "code",
   "execution_count": 100,
   "metadata": {},
   "outputs": [
    {
     "data": {
      "text/plain": [
       "tensor([[1.0000e+00, 0.0000e+00],\n",
       "        [9.9998e-01, 2.0000e-05],\n",
       "        [0.0000e+00, 1.0000e+00]], grad_fn=<PerturbedTchBackward>)"
      ]
     },
     "execution_count": 100,
     "metadata": {},
     "output_type": "execute_result"
    }
   ],
   "source": [
    "batched = True\n",
    "num_samples = 100000\n",
    "sigma = 0.05\n",
    "noise = _GUMBEL\n",
    "batched = True\n",
    "func = lambda x: torch.nn.functional.one_hot(torch.argmax(x, 1), x.shape[1]).type(x.dtype)\n",
    "\n",
    "class PerturbedTch(torch.autograd.Function):\n",
    "\n",
    "    @staticmethod\n",
    "    def forward(ctx, input_tensor):\n",
    "        \"\"\"\n",
    "        In the forward pass we receive a Tensor containing the input and return\n",
    "        a Tensor containing the output. ctx is a context object that can be used\n",
    "        to stash information for backward computation. You can cache arbitrary\n",
    "        objects for use in the backward pass using the ctx.save_for_backward method.\n",
    "        \"\"\"\n",
    "        original_input_shape = input_tensor.shape\n",
    "        orig_shape = torch.LongTensor(list(original_input_shape))\n",
    "        if batched:\n",
    "            assert len(original_input_shape) >= 2\n",
    "        else:\n",
    "            input_tensor = input_tensor.unsqueeze(0)\n",
    "        input_shape = input_tensor.shape  # [B, D1, ... Dk], k >= 1\n",
    "        perturbed_input_shape = [num_samples] + list(input_shape)\n",
    "\n",
    "        noises = sample_noise_with_gradients(noise, perturbed_input_shape)\n",
    "        additive_noise, noise_gradient = [noise.type(input_tensor.dtype) for noise in noises]\n",
    "        perturbed_input = input_tensor.unsqueeze(0) + sigma * additive_noise\n",
    "\n",
    "        # [N, B, D1, ..., Dk] -> [NB, D1, ..., Dk].\n",
    "        flat_batch_dim_shape = [-1] + list(input_shape[1:])\n",
    "        perturbed_input = perturbed_input.view(flat_batch_dim_shape)\n",
    "        # Calls user-defined function in a perturbation agnostic manner.\n",
    "        perturbed_output = func(perturbed_input)\n",
    "        # [NB, D1, ..., Dk] ->  [N, B, D1, ..., Dk].\n",
    "        perturbed_input = perturbed_input.view(perturbed_input_shape)\n",
    "        # Either\n",
    "        #   (Default case): [NB, D1, ..., Dk] ->  [N, B, D1, ..., Dk]\n",
    "        # or\n",
    "        #   (Full-reduce case) [NB] -> [N, B]\n",
    "        perturbed_output_shape = [num_samples] + [-1] + list(perturbed_output.shape[1:])\n",
    "        perturbed_output = perturbed_output.view(perturbed_output_shape)\n",
    "        \n",
    "        forward_output = perturbed_output.mean(0)\n",
    "        if not batched:  # Removes dummy batch dimension.\n",
    "            forward_output = forward_output[0]\n",
    "        ctx.save_for_backward(orig_shape, noise_gradient, perturbed_output)\n",
    "        return forward_output\n",
    "        # ctx.save_for_backward(original_input_shape)\n",
    "        # return input_tensor.clamp(min=0)\n",
    "\n",
    "    @staticmethod\n",
    "    def backward(ctx, dy):\n",
    "        original_input_shape, noise_gradient, perturbed_output = ctx.saved_tensors\n",
    "        # perturbed_input_shape = [num_samples] if batched else [num_samples, 1] + list(original_input_shape)\n",
    "        # perturbed_input_rank = len(perturbed_input_shape)\n",
    "        perturbed_input_rank = len(original_input_shape) + (1 if batched else 2)\n",
    "\n",
    "        \"\"\"Compute the gradient of the expectation via integration by parts.\"\"\"\n",
    "        output, noise_grad = perturbed_output, noise_gradient\n",
    "        # Adds dummy feature/channel dimension internally.\n",
    "        if perturbed_input_rank > len(output.shape):\n",
    "            dy = dy.unsqueeze(-1)\n",
    "            output = output.unsqueeze(-1)\n",
    "        # Adds dummy batch dimension internally.\n",
    "        if not batched:\n",
    "            dy = dy.unsqueeze(0)\n",
    "        # Flattens [D1, ..., Dk] to a single feat dim [D].\n",
    "        flatten = lambda t: t.view(t.shape[0], t.shape[1], -1)\n",
    "        dy = dy.view(dy.shape[0], -1)  # (B, D)\n",
    "        output = flatten(output)  # (N, B, D)\n",
    "        noise_grad = flatten(noise_grad)  # (N, B, D)\n",
    "\n",
    "        g = torch.einsum(\n",
    "            \"nbd,nb->bd\",\n",
    "            noise_grad,\n",
    "            torch.einsum(\"nbd,bd->nb\", output, dy),\n",
    "        )\n",
    "        g /= sigma * num_samples\n",
    "        return g.view(*original_input_shape)\n",
    "\n",
    "input_tensor = torch.randn([3, 2])\n",
    "input_tensor.requires_grad = True\n",
    "out = PerturbedTch.apply(input_tensor)\n",
    "out"
   ]
  },
  {
   "cell_type": "code",
   "execution_count": 101,
   "metadata": {},
   "outputs": [],
   "source": [
    "loss = out.mean()"
   ]
  },
  {
   "cell_type": "code",
   "execution_count": 102,
   "metadata": {},
   "outputs": [],
   "source": [
    "loss.backward()"
   ]
  },
  {
   "cell_type": "code",
   "execution_count": 103,
   "metadata": {},
   "outputs": [
    {
     "data": {
      "text/plain": [
       "tensor([[-0.0183, -0.0135],\n",
       "        [-0.0087,  0.0170],\n",
       "        [-0.0156,  0.0078]])"
      ]
     },
     "execution_count": 103,
     "metadata": {},
     "output_type": "execute_result"
    }
   ],
   "source": [
    "input_tensor.grad"
   ]
  },
  {
   "cell_type": "code",
   "execution_count": null,
   "metadata": {},
   "outputs": [],
   "source": []
  },
  {
   "cell_type": "code",
   "execution_count": 104,
   "metadata": {},
   "outputs": [],
   "source": [
    "%load_ext autoreload\n",
    "%autoreload 2"
   ]
  },
  {
   "cell_type": "code",
   "execution_count": 2,
   "metadata": {},
   "outputs": [
    {
     "name": "stdout",
     "output_type": "stream",
     "text": [
      "tensor([[[-0.8010,  1.2944,  0.4856,  0.6414,  0.1016],\n",
      "         [-0.1898,  0.3584,  0.4202, -0.8507, -0.2613],\n",
      "         [ 1.1522, -1.0642,  1.1020,  0.9677,  0.4820]]])\n"
     ]
    }
   ],
   "source": [
    "import torch\n",
    "from perturbations.fenchel_young_tch import FenchelYoungLoss\n",
    "\n",
    "def ranks(inputs, dim=-1):\n",
    "    \"\"\"Returns the ranks of the input values among the given axis.\"\"\"\n",
    "    return 1 + inputs.argsort(dim).argsort(dim).type(inputs.dtype)\n",
    "\n",
    "x = torch.randn([3, 5]).float().unsqueeze(0)\n",
    "print(x)\n",
    "x.requires_grad = True\n",
    "y_true = torch.arange(5).float().unsqueeze(0).repeat([x.shape[0], 1])"
   ]
  },
  {
   "cell_type": "code",
   "execution_count": 3,
   "metadata": {},
   "outputs": [],
   "source": [
    "optim = torch.optim.SGD([x], 0.01)"
   ]
  },
  {
   "cell_type": "code",
   "execution_count": 96,
   "metadata": {},
   "outputs": [
    {
     "data": {
      "text/plain": [
       "tensor([[[-1.7310, -0.3490, -0.3152, -0.2833, -0.2496],\n",
       "         [-1.3052, -1.0426, -1.0086, -0.9748, -0.8419],\n",
       "         [-0.9017, -1.0642, -0.0498, -0.0148,  0.0202]]], requires_grad=True)"
      ]
     },
     "execution_count": 96,
     "metadata": {},
     "output_type": "execute_result"
    }
   ],
   "source": [
    "optim.zero_grad()\n",
    "criterion = FenchelYoungLoss(ranks)\n",
    "loss = criterion(y_true, x).sum()\n",
    "loss.backward()\n",
    "optim.step()\n",
    "x"
   ]
  },
  {
   "cell_type": "code",
   "execution_count": null,
   "metadata": {},
   "outputs": [],
   "source": []
  },
  {
   "cell_type": "code",
   "execution_count": 6,
   "metadata": {},
   "outputs": [
    {
     "name": "stdout",
     "output_type": "stream",
     "text": [
      "None\n"
     ]
    }
   ],
   "source": [
    "f = criterion.perturbed(x)\n",
    "print(f)"
   ]
  },
  {
   "cell_type": "code",
   "execution_count": null,
   "metadata": {},
   "outputs": [],
   "source": []
  }
 ],
 "metadata": {
  "kernelspec": {
   "display_name": "Python 3",
   "language": "python",
   "name": "python3"
  },
  "language_info": {
   "codemirror_mode": {
    "name": "ipython",
    "version": 3
   },
   "file_extension": ".py",
   "mimetype": "text/x-python",
   "name": "python",
   "nbconvert_exporter": "python",
   "pygments_lexer": "ipython3",
   "version": "3.6.9"
  }
 },
 "nbformat": 4,
 "nbformat_minor": 4
}
